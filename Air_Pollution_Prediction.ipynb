{
  "nbformat": 4,
  "nbformat_minor": 0,
  "metadata": {
    "colab": {
      "name": "Air Pollution Prediction ",
      "provenance": [],
      "collapsed_sections": [
        "pCkmJuBD6BeC",
        "L8mawSj99Ty6",
        "lSwxibDK-Kz_",
        "XGFMhDTC_aX7"
      ]
    },
    "kernelspec": {
      "name": "python3",
      "display_name": "Python 3"
    },
    "accelerator": "GPU"
  },
  "cells": [
    {
      "cell_type": "markdown",
      "metadata": {
        "id": "r0uofTvgF-dF",
        "colab_type": "text"
      },
      "source": [
        "**GIVEN 5 FEATURES PREDICT THE AIR QUALITY INDEX**\n",
        "\n",
        "\n"
      ]
    },
    {
      "cell_type": "markdown",
      "metadata": {
        "id": "pCkmJuBD6BeC",
        "colab_type": "text"
      },
      "source": [
        "## Importing Standard Liberaries"
      ]
    },
    {
      "cell_type": "code",
      "metadata": {
        "id": "HBtFc_wr6I5k",
        "colab_type": "code",
        "colab": {}
      },
      "source": [
        "import numpy as np\n",
        "import pandas as pd \n",
        "import matplotlib.pyplot as plt "
      ],
      "execution_count": 0,
      "outputs": []
    },
    {
      "cell_type": "markdown",
      "metadata": {
        "id": "Fw3n3ZbAhq5q",
        "colab_type": "text"
      },
      "source": [
        "## Reading Data"
      ]
    },
    {
      "cell_type": "code",
      "metadata": {
        "id": "V6Mq_T1nAC00",
        "colab_type": "code",
        "colab": {
          "base_uri": "https://localhost:8080/",
          "height": 195
        },
        "outputId": "76f77b72-df99-4652-c709-44a2f64f5740"
      },
      "source": [
        "df=pd.read_csv(\"Train.csv\")\n",
        "df.head(5)"
      ],
      "execution_count": 2,
      "outputs": [
        {
          "output_type": "execute_result",
          "data": {
            "text/html": [
              "<div>\n",
              "<style scoped>\n",
              "    .dataframe tbody tr th:only-of-type {\n",
              "        vertical-align: middle;\n",
              "    }\n",
              "\n",
              "    .dataframe tbody tr th {\n",
              "        vertical-align: top;\n",
              "    }\n",
              "\n",
              "    .dataframe thead th {\n",
              "        text-align: right;\n",
              "    }\n",
              "</style>\n",
              "<table border=\"1\" class=\"dataframe\">\n",
              "  <thead>\n",
              "    <tr style=\"text-align: right;\">\n",
              "      <th></th>\n",
              "      <th>feature_1</th>\n",
              "      <th>feature_2</th>\n",
              "      <th>feature_3</th>\n",
              "      <th>feature_4</th>\n",
              "      <th>feature_5</th>\n",
              "      <th>target</th>\n",
              "    </tr>\n",
              "  </thead>\n",
              "  <tbody>\n",
              "    <tr>\n",
              "      <th>0</th>\n",
              "      <td>0.293416</td>\n",
              "      <td>-0.945599</td>\n",
              "      <td>-0.421105</td>\n",
              "      <td>0.406816</td>\n",
              "      <td>0.525662</td>\n",
              "      <td>-82.154667</td>\n",
              "    </tr>\n",
              "    <tr>\n",
              "      <th>1</th>\n",
              "      <td>-0.836084</td>\n",
              "      <td>-0.189228</td>\n",
              "      <td>-0.776403</td>\n",
              "      <td>-1.053831</td>\n",
              "      <td>0.597997</td>\n",
              "      <td>-48.897960</td>\n",
              "    </tr>\n",
              "    <tr>\n",
              "      <th>2</th>\n",
              "      <td>0.236425</td>\n",
              "      <td>0.132836</td>\n",
              "      <td>-0.147723</td>\n",
              "      <td>0.699854</td>\n",
              "      <td>-0.187364</td>\n",
              "      <td>77.270371</td>\n",
              "    </tr>\n",
              "    <tr>\n",
              "      <th>3</th>\n",
              "      <td>0.175312</td>\n",
              "      <td>0.143194</td>\n",
              "      <td>-0.581111</td>\n",
              "      <td>-0.122107</td>\n",
              "      <td>-1.292168</td>\n",
              "      <td>-2.988581</td>\n",
              "    </tr>\n",
              "    <tr>\n",
              "      <th>4</th>\n",
              "      <td>-1.693011</td>\n",
              "      <td>0.542712</td>\n",
              "      <td>-2.798729</td>\n",
              "      <td>-0.686723</td>\n",
              "      <td>1.244077</td>\n",
              "      <td>-37.596722</td>\n",
              "    </tr>\n",
              "  </tbody>\n",
              "</table>\n",
              "</div>"
            ],
            "text/plain": [
              "   feature_1  feature_2  feature_3  feature_4  feature_5     target\n",
              "0   0.293416  -0.945599  -0.421105   0.406816   0.525662 -82.154667\n",
              "1  -0.836084  -0.189228  -0.776403  -1.053831   0.597997 -48.897960\n",
              "2   0.236425   0.132836  -0.147723   0.699854  -0.187364  77.270371\n",
              "3   0.175312   0.143194  -0.581111  -0.122107  -1.292168  -2.988581\n",
              "4  -1.693011   0.542712  -2.798729  -0.686723   1.244077 -37.596722"
            ]
          },
          "metadata": {
            "tags": []
          },
          "execution_count": 2
        }
      ]
    },
    {
      "cell_type": "code",
      "metadata": {
        "id": "4tUlgmkYAbvp",
        "colab_type": "code",
        "colab": {}
      },
      "source": [
        "data=df.values\n",
        "xtrain=data[:,0:5]\n",
        "ytrain=data[:,-1]"
      ],
      "execution_count": 0,
      "outputs": []
    },
    {
      "cell_type": "markdown",
      "metadata": {
        "id": "1mGj8Lly65iG",
        "colab_type": "text"
      },
      "source": [
        "## Preprocessing the Data"
      ]
    },
    {
      "cell_type": "code",
      "metadata": {
        "id": "XhfIwySr6pOb",
        "colab_type": "code",
        "outputId": "d0158407-5975-4747-a79b-5288a578cc5d",
        "colab": {
          "base_uri": "https://localhost:8080/",
          "height": 52
        }
      },
      "source": [
        "# We need to find mean ann std deviation about each columns\n",
        "u=np.mean(xtrain,axis=0)\n",
        "std=np.std(xtrain,axis=0)\n",
        "print(u.shape)\n",
        "print(std.shape)"
      ],
      "execution_count": 4,
      "outputs": [
        {
          "output_type": "stream",
          "text": [
            "(5,)\n",
            "(5,)\n"
          ],
          "name": "stdout"
        }
      ]
    },
    {
      "cell_type": "code",
      "metadata": {
        "id": "Ary5xhaI8ao5",
        "colab_type": "code",
        "colab": {}
      },
      "source": [
        "#Normalization\n",
        "xtrain=(xtrain-u)/std"
      ],
      "execution_count": 0,
      "outputs": []
    },
    {
      "cell_type": "markdown",
      "metadata": {
        "id": "L8mawSj99Ty6",
        "colab_type": "text"
      },
      "source": [
        "## Visualize the data "
      ]
    },
    {
      "cell_type": "code",
      "metadata": {
        "id": "3iqTDjAJ8kLm",
        "colab_type": "code",
        "outputId": "819b0264-9c33-4520-84de-7a72301145d5",
        "colab": {
          "base_uri": "https://localhost:8080/",
          "height": 362
        }
      },
      "source": [
        "# Plot Y vs any feature\n",
        "plt.style.use('seaborn')\n",
        "plt.scatter(xtrain[:,3],ytrain)\n",
        "plt.title('3th Feature vs Y')\n",
        "plt.show()"
      ],
      "execution_count": 6,
      "outputs": [
        {
          "output_type": "display_data",
          "data": {
            "image/png": "[encoded data removed]",
            "text/plain": [
              "<Figure size 576x396 with 1 Axes>"
            ]
          },
          "metadata": {
            "tags": []
          }
        }
      ]
    },
    {
      "cell_type": "markdown",
      "metadata": {
        "id": "lSwxibDK-Kz_",
        "colab_type": "text"
      },
      "source": [
        "## Making Data Ready for Algorithm"
      ]
    },
    {
      "cell_type": "code",
      "metadata": {
        "id": "anirNhc99kDl",
        "colab_type": "code",
        "outputId": "e0579317-edf0-4dd9-854a-59548211a64e",
        "colab": {
          "base_uri": "https://localhost:8080/",
          "height": 34
        }
      },
      "source": [
        "ones=np.ones((xtrain.shape[0],1))\n",
        "xtrain=np.hstack((ones,xtrain))\n",
        "print(xtrain.shape) #Adding a Dummy Feature"
      ],
      "execution_count": 7,
      "outputs": [
        {
          "output_type": "stream",
          "text": [
            "(1600, 6)\n"
          ],
          "name": "stdout"
        }
      ]
    },
    {
      "cell_type": "markdown",
      "metadata": {
        "id": "XGFMhDTC_aX7",
        "colab_type": "text"
      },
      "source": [
        "## Gradient Descent Algorithm"
      ]
    },
    {
      "cell_type": "code",
      "metadata": {
        "id": "FxQM8k6V_BPD",
        "colab_type": "code",
        "colab": {}
      },
      "source": [
        "# Helper Functions\n",
        "def hypothesis(x,theta):\n",
        "  return np.dot(x,theta)\n",
        "def error(X,y,theta):\n",
        "  e=0.0\n",
        "  m=X.shape[0]\n",
        "  y_=hypothesis(X,theta)\n",
        "  e=np.sum((y-y_)**2 )\n",
        "  return e/m \n",
        "def gradient(X,y,theta):\n",
        "  m,n=X.shape \n",
        "  y_=hypothesis(X,theta)\n",
        "  grad=np.dot(X.T,(y_-y))\n",
        "  return grad/m "
      ],
      "execution_count": 0,
      "outputs": []
    },
    {
      "cell_type": "code",
      "metadata": {
        "id": "coLrRiBTAH3s",
        "colab_type": "code",
        "colab": {}
      },
      "source": [
        "def gradient_descent(X,y,learning_rate=0.1,max_epochs=350):\n",
        "  n=X.shape[1] \n",
        "  theta=np.zeros((n,))\n",
        "  error_list=[]\n",
        "  for i in range(max_epochs):\n",
        "    e=error(X,y,theta)\n",
        "    error_list.append(e)\n",
        "    #Gradient Descent \n",
        "    grad=gradient(X,y,theta)\n",
        "    theta=theta-learning_rate*grad \n",
        "  return theta,error_list "
      ],
      "execution_count": 0,
      "outputs": []
    },
    {
      "cell_type": "markdown",
      "metadata": {
        "id": "ARqv7KCjFYW6",
        "colab_type": "text"
      },
      "source": [
        "## Training "
      ]
    },
    {
      "cell_type": "code",
      "metadata": {
        "id": "9q1l7dCnDa57",
        "colab_type": "code",
        "outputId": "cefdaadc-8708-4547-e474-fef0464fd132",
        "colab": {
          "base_uri": "https://localhost:8080/",
          "height": 34
        }
      },
      "source": [
        "import time\n",
        "start=time.time()\n",
        "theta,error_list=gradient_descent(xtrain,ytrain)\n",
        "end=time.time()\n",
        "print(\"Time Taken is \",end-start)"
      ],
      "execution_count": 10,
      "outputs": [
        {
          "output_type": "stream",
          "text": [
            "Time Taken is  0.032498836517333984\n"
          ],
          "name": "stdout"
        }
      ]
    },
    {
      "cell_type": "markdown",
      "metadata": {
        "id": "8XuRcTMmFbWn",
        "colab_type": "text"
      },
      "source": [
        "## Visualising Error Function"
      ]
    },
    {
      "cell_type": "code",
      "metadata": {
        "id": "ezcfiUXxExQk",
        "colab_type": "code",
        "outputId": "18fc2d3a-0396-42ec-eefe-896d596b5bab",
        "colab": {
          "base_uri": "https://localhost:8080/",
          "height": 365
        }
      },
      "source": [
        "plt.plot(error_list)"
      ],
      "execution_count": 11,
      "outputs": [
        {
          "output_type": "execute_result",
          "data": {
            "text/plain": [
              "[<matplotlib.lines.Line2D at 0x7f5eb8eeeac8>]"
            ]
          },
          "metadata": {
            "tags": []
          },
          "execution_count": 11
        },
        {
          "output_type": "display_data",
          "data": {
            "image/png": "[encoded data removed]",
            "text/plain": [
              "<Figure size 576x396 with 1 Axes>"
            ]
          },
          "metadata": {
            "tags": []
          }
        }
      ]
    },
    {
      "cell_type": "markdown",
      "metadata": {
        "id": "2ceuJaaJGtu7",
        "colab_type": "text"
      },
      "source": [
        "## Predictions"
      ]
    },
    {
      "cell_type": "markdown",
      "metadata": {
        "id": "bjEcv2eGCL2T",
        "colab_type": "text"
      },
      "source": [
        "**Reading Test Data**"
      ]
    },
    {
      "cell_type": "code",
      "metadata": {
        "id": "hlnN7n03HrtM",
        "colab_type": "code",
        "colab": {}
      },
      "source": [
        "dftest=pd.read_csv('Test.csv')\n",
        "xtest=dftest.values\n",
        "xtest=np.hstack((np.ones((xtest.shape[0],1)),xtest))\n",
        "y_=hypothesis(xtest,theta)"
      ],
      "execution_count": 0,
      "outputs": []
    },
    {
      "cell_type": "markdown",
      "metadata": {
        "id": "d3CGUDbeLYNx",
        "colab_type": "text"
      },
      "source": [
        "## Getting Predictions.csv"
      ]
    },
    {
      "cell_type": "code",
      "metadata": {
        "id": "6QysPb1QLbfI",
        "colab_type": "code",
        "colab": {}
      },
      "source": [
        "pd.DataFrame(y_).to_csv(\"Predictions.csv\")"
      ],
      "execution_count": 0,
      "outputs": []
    }
  ]
}